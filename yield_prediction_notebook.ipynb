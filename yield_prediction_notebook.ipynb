{
 "cells": [
  {
   "cell_type": "code",
   "execution_count": 1,
   "metadata": {},
   "outputs": [
    {
     "name": "stderr",
     "output_type": "stream",
     "text": [
      "Using TensorFlow backend.\n"
     ]
    }
   ],
   "source": [
    "import pandas as pd\n",
    "import numpy as np\n",
    "from sklearn.linear_model import LinearRegression\n",
    "from sklearn.model_selection import train_test_split\n",
    "from tensorflow.keras import optimizers\n",
    "import glob\n",
    "import os\n",
    "from keras.models import Sequential\n",
    "from keras.layers import Dense,Activation,Dropout\n",
    "import matplotlib.pyplot as plt\n",
    "import seaborn as sns"
   ]
  },
  {
   "cell_type": "code",
   "execution_count": 2,
   "metadata": {},
   "outputs": [],
   "source": [
    "os.chdir('cotton')\n",
    "df=pd.read_csv('../climate/Latitudes.csv')"
   ]
  },
  {
   "cell_type": "code",
   "execution_count": 3,
   "metadata": {},
   "outputs": [],
   "source": [
    "\n",
    "df=df.replace('Komaram Bheem-Asifabad','KomaramBheem-Asifabad')\n",
    "df=df.replace('Warangal Rural','WarangalRural')\n",
    "df=df.replace('Warangal Urban','WarangalUrban')"
   ]
  },
  {
   "cell_type": "code",
   "execution_count": 4,
   "metadata": {},
   "outputs": [],
   "source": [
    "\n",
    "DIR=glob.glob('*.out')\n",
    "yields = []\n",
    "sett=set()\n",
    "feature_df = []\n",
    "\n",
    "dists = []\n",
    "densities = []\n",
    "\n",
    "for file in DIR:\n",
    "    dist=file.split('_')[0][6:]\n",
    "    plant_density=file.split('_')[1]\n",
    "    sett.add(dist)\n",
    "    with open(file,'r') as f:\n",
    "        lines=f.readlines()\n",
    "        yiel=(lines[4].split('         '))[3]\n",
    "        res = \"*\"\n",
    "        for c in lines[4]:\n",
    "            if res[-1]== ' ' and c == ' ':\n",
    "                continue\n",
    "            else :\n",
    "                res += c\n",
    "        yields.append(float(res.split(' ')[4]))\n",
    "        dists.append(dist)\n",
    "        densities.append(plant_density)\n",
    "        "
   ]
  },
  {
   "cell_type": "code",
   "execution_count": 5,
   "metadata": {},
   "outputs": [],
   "source": [
    "#creating a dataframe for input and output parameters\n",
    "feature_data = pd.DataFrame()\n"
   ]
  },
  {
   "cell_type": "code",
   "execution_count": 6,
   "metadata": {},
   "outputs": [],
   "source": [
    "feature_data[\"District\"] = dists\n",
    "feature_data[\"Density\"] = [float(x) for x in densities]\n",
    "feature_data[\"Yield\"] = yields\n"
   ]
  },
  {
   "cell_type": "code",
   "execution_count": 7,
   "metadata": {},
   "outputs": [],
   "source": [
    "lats = [float(df.loc[df.District==d]['Latitude'])  for d in list(feature_data[\"District\"])]"
   ]
  },
  {
   "cell_type": "code",
   "execution_count": 8,
   "metadata": {},
   "outputs": [],
   "source": [
    "feature_data['Latitude']=lats"
   ]
  },
  {
   "cell_type": "code",
   "execution_count": 9,
   "metadata": {
    "scrolled": true
   },
   "outputs": [],
   "source": [
    "dist_ids = {d:i for i,d in enumerate(sorted(list(set(dists))))}"
   ]
  },
  {
   "cell_type": "code",
   "execution_count": 10,
   "metadata": {},
   "outputs": [],
   "source": [
    "DistrictId = [dist_ids[d]  for d in list(feature_data[\"District\"])]"
   ]
  },
  {
   "cell_type": "code",
   "execution_count": 11,
   "metadata": {},
   "outputs": [],
   "source": [
    "feature_data[\"DistrictId\"] = DistrictId"
   ]
  },
  {
   "cell_type": "code",
   "execution_count": 12,
   "metadata": {},
   "outputs": [],
   "source": [
    "feature_data.to_csv('./FEATURES.csv')"
   ]
  },
  {
   "cell_type": "code",
   "execution_count": null,
   "metadata": {},
   "outputs": [],
   "source": []
  },
  {
   "cell_type": "code",
   "execution_count": 13,
   "metadata": {},
   "outputs": [
    {
     "data": {
      "text/html": [
       "<div>\n",
       "<style scoped>\n",
       "    .dataframe tbody tr th:only-of-type {\n",
       "        vertical-align: middle;\n",
       "    }\n",
       "\n",
       "    .dataframe tbody tr th {\n",
       "        vertical-align: top;\n",
       "    }\n",
       "\n",
       "    .dataframe thead th {\n",
       "        text-align: right;\n",
       "    }\n",
       "</style>\n",
       "<table border=\"1\" class=\"dataframe\">\n",
       "  <thead>\n",
       "    <tr style=\"text-align: right;\">\n",
       "      <th></th>\n",
       "      <th>Density</th>\n",
       "      <th>Yield</th>\n",
       "      <th>Latitude</th>\n",
       "      <th>DistrictId</th>\n",
       "    </tr>\n",
       "  </thead>\n",
       "  <tbody>\n",
       "    <tr>\n",
       "      <th>Density</th>\n",
       "      <td>1.000000</td>\n",
       "      <td>-0.045801</td>\n",
       "      <td>0.000000</td>\n",
       "      <td>0.000000</td>\n",
       "    </tr>\n",
       "    <tr>\n",
       "      <th>Yield</th>\n",
       "      <td>-0.045801</td>\n",
       "      <td>1.000000</td>\n",
       "      <td>-0.793272</td>\n",
       "      <td>0.409692</td>\n",
       "    </tr>\n",
       "    <tr>\n",
       "      <th>Latitude</th>\n",
       "      <td>0.000000</td>\n",
       "      <td>-0.793272</td>\n",
       "      <td>1.000000</td>\n",
       "      <td>-0.212807</td>\n",
       "    </tr>\n",
       "    <tr>\n",
       "      <th>DistrictId</th>\n",
       "      <td>0.000000</td>\n",
       "      <td>0.409692</td>\n",
       "      <td>-0.212807</td>\n",
       "      <td>1.000000</td>\n",
       "    </tr>\n",
       "  </tbody>\n",
       "</table>\n",
       "</div>"
      ],
      "text/plain": [
       "             Density     Yield  Latitude  DistrictId\n",
       "Density     1.000000 -0.045801  0.000000    0.000000\n",
       "Yield      -0.045801  1.000000 -0.793272    0.409692\n",
       "Latitude    0.000000 -0.793272  1.000000   -0.212807\n",
       "DistrictId  0.000000  0.409692 -0.212807    1.000000"
      ]
     },
     "execution_count": 13,
     "metadata": {},
     "output_type": "execute_result"
    }
   ],
   "source": [
    "feature_data.corr()"
   ]
  },
  {
   "cell_type": "code",
   "execution_count": 14,
   "metadata": {},
   "outputs": [],
   "source": [
    "def create_model(optimizer='adam',init_mode='uniform',dropout_rate=0.0,learn_rate=0.001):\n",
    "    opts={'adam':optimizers.Adam(learn_rate),'sgd':optimizers.SGD(learn_rate),'rms':optimizers.RMSprop(learn_rate)}\n",
    "    opt=opts[optimizer]\n",
    "    model=Sequential()\n",
    "    model.add(Dense(5,input_dim=3,kernel_initializer=init_mode,activation='relu'))\n",
    "    model.add(Dense(6,activation='relu'))\n",
    "    model.add(Dense(1,kernel_initializer=init_mode,activation='sigmoid'))\n",
    "    model.compile(loss='mean_absolute_error',optimizer=opt)\n",
    "    return model"
   ]
  },
  {
   "cell_type": "code",
   "execution_count": 15,
   "metadata": {},
   "outputs": [],
   "source": [
    "# After hyper-parameter tuning through grid search, we have obtained the above parameters as best fit"
   ]
  },
  {
   "cell_type": "code",
   "execution_count": 16,
   "metadata": {},
   "outputs": [
    {
     "data": {
      "text/plain": [
       "2946.0"
      ]
     },
     "execution_count": 16,
     "metadata": {},
     "output_type": "execute_result"
    }
   ],
   "source": [
    "feature_data['Yield'].max()"
   ]
  },
  {
   "cell_type": "code",
   "execution_count": 17,
   "metadata": {},
   "outputs": [],
   "source": [
    "feature_data['Yield']=feature_data['Yield']/3000 "
   ]
  },
  {
   "cell_type": "code",
   "execution_count": 18,
   "metadata": {},
   "outputs": [],
   "source": [
    "Xtr,Xte,ytr,yte=train_test_split(feature_data[['DistrictId','Latitude','Density']],feature_data['Yield'],test_size=0.1) "
   ]
  },
  {
   "cell_type": "code",
   "execution_count": 19,
   "metadata": {},
   "outputs": [
    {
     "data": {
      "text/plain": [
       "\"batch_size = [128]\\nepochs = [1,10,50,100]\\noptimizer=['rms',adam]\\ninit_mode=['normal','uniform']\\ndropout_rate=[0.1,0]\\nlearn_rate=[0.001,0.01,0.1,1]\\nparam_grid=dict(batch_size=batch_size,epochs=epochs,optimizer=optimizer,init_mode=init_mode,dropout_rate=dropout_rate,learn_rate=learn_rate)\\ngrid=GridSearchCV(estimator=model,param_grid=param_grid,n_jobs=-1,cv=3)\""
      ]
     },
     "execution_count": 19,
     "metadata": {},
     "output_type": "execute_result"
    }
   ],
   "source": [
    "\"\"\"batch_size = [128]\n",
    "epochs = [1,10,50,100]\n",
    "optimizer=['rms',adam]\n",
    "init_mode=['normal','uniform']\n",
    "dropout_rate=[0.1,0]\n",
    "learn_rate=[0.001,0.01,0.1,1]\n",
    "param_grid=dict(batch_size=batch_size,epochs=epochs,optimizer=optimizer,init_mode=init_mode,dropout_rate=dropout_rate,learn_rate=learn_rate)\n",
    "grid=GridSearchCV(estimator=model,param_grid=param_grid,n_jobs=-1,cv=3)\"\"\"\n"
   ]
  },
  {
   "cell_type": "code",
   "execution_count": 20,
   "metadata": {},
   "outputs": [],
   "source": [
    "model = create_model()"
   ]
  },
  {
   "cell_type": "code",
   "execution_count": 20,
   "metadata": {},
   "outputs": [
    {
     "ename": "NameError",
     "evalue": "name 'model' is not defined",
     "output_type": "error",
     "traceback": [
      "\u001b[1;31m---------------------------------------------------------------------------\u001b[0m",
      "\u001b[1;31mNameError\u001b[0m                                 Traceback (most recent call last)",
      "\u001b[1;32m<ipython-input-20-5f15418b3570>\u001b[0m in \u001b[0;36m<module>\u001b[1;34m\u001b[0m\n\u001b[1;32m----> 1\u001b[1;33m \u001b[0mmodel\u001b[0m\u001b[1;33m.\u001b[0m\u001b[0msummary\u001b[0m\u001b[1;33m(\u001b[0m\u001b[1;33m)\u001b[0m\u001b[1;33m\u001b[0m\u001b[0m\n\u001b[0m",
      "\u001b[1;31mNameError\u001b[0m: name 'model' is not defined"
     ]
    }
   ],
   "source": [
    "model.summary()"
   ]
  },
  {
   "cell_type": "code",
   "execution_count": 21,
   "metadata": {},
   "outputs": [
    {
     "name": "stdout",
     "output_type": "stream",
     "text": [
      "Train on 139 samples, validate on 16 samples\n",
      "Epoch 1/70\n",
      "139/139 [==============================] - 0s 768us/step - loss: 0.2113 - val_loss: 0.2269\n",
      "Epoch 2/70\n",
      "139/139 [==============================] - 0s 287us/step - loss: 0.2023 - val_loss: 0.2168\n",
      "Epoch 3/70\n",
      "139/139 [==============================] - 0s 237us/step - loss: 0.1917 - val_loss: 0.2047\n",
      "Epoch 4/70\n",
      "139/139 [==============================] - 0s 165us/step - loss: 0.1790 - val_loss: 0.1902\n",
      "Epoch 5/70\n",
      "139/139 [==============================] - 0s 129us/step - loss: 0.1645 - val_loss: 0.1738\n",
      "Epoch 6/70\n",
      "139/139 [==============================] - 0s 165us/step - loss: 0.1472 - val_loss: 0.1542\n",
      "Epoch 7/70\n",
      "139/139 [==============================] - 0s 179us/step - loss: 0.1282 - val_loss: 0.1313\n",
      "Epoch 8/70\n",
      "139/139 [==============================] - 0s 122us/step - loss: 0.1076 - val_loss: 0.1057\n",
      "Epoch 9/70\n",
      "139/139 [==============================] - 0s 258us/step - loss: 0.0905 - val_loss: 0.0791\n",
      "Epoch 10/70\n",
      "139/139 [==============================] - 0s 151us/step - loss: 0.0790 - val_loss: 0.0640\n",
      "Epoch 11/70\n",
      "139/139 [==============================] - 0s 151us/step - loss: 0.0721 - val_loss: 0.0523\n",
      "Epoch 12/70\n",
      "139/139 [==============================] - 0s 172us/step - loss: 0.0699 - val_loss: 0.0465\n",
      "Epoch 13/70\n",
      "139/139 [==============================] - 0s 143us/step - loss: 0.0696 - val_loss: 0.0457\n",
      "Epoch 14/70\n",
      "139/139 [==============================] - 0s 165us/step - loss: 0.0698 - val_loss: 0.0457\n",
      "Epoch 15/70\n",
      "139/139 [==============================] - 0s 179us/step - loss: 0.0696 - val_loss: 0.0457\n",
      "Epoch 16/70\n",
      "139/139 [==============================] - 0s 136us/step - loss: 0.0692 - val_loss: 0.0461\n",
      "Epoch 17/70\n",
      "139/139 [==============================] - 0s 151us/step - loss: 0.0690 - val_loss: 0.0463\n",
      "Epoch 18/70\n",
      "139/139 [==============================] - 0s 179us/step - loss: 0.0688 - val_loss: 0.0460\n",
      "Epoch 19/70\n",
      "139/139 [==============================] - 0s 215us/step - loss: 0.0686 - val_loss: 0.0460\n",
      "Epoch 20/70\n",
      "139/139 [==============================] - 0s 143us/step - loss: 0.0685 - val_loss: 0.0456\n",
      "Epoch 21/70\n",
      "139/139 [==============================] - 0s 151us/step - loss: 0.0685 - val_loss: 0.0456\n",
      "Epoch 22/70\n",
      "139/139 [==============================] - 0s 323us/step - loss: 0.0683 - val_loss: 0.0456\n",
      "Epoch 23/70\n",
      "139/139 [==============================] - 0s 115us/step - loss: 0.0682 - val_loss: 0.0455\n",
      "Epoch 24/70\n",
      "139/139 [==============================] - 0s 108us/step - loss: 0.0681 - val_loss: 0.0455\n",
      "Epoch 25/70\n",
      "139/139 [==============================] - 0s 327us/step - loss: 0.0680 - val_loss: 0.0455\n",
      "Epoch 26/70\n",
      "139/139 [==============================] - 0s 172us/step - loss: 0.0678 - val_loss: 0.0454\n",
      "Epoch 27/70\n",
      "139/139 [==============================] - 0s 122us/step - loss: 0.0678 - val_loss: 0.0454\n",
      "Epoch 28/70\n",
      "139/139 [==============================] - 0s 93us/step - loss: 0.0677 - val_loss: 0.0453\n",
      "Epoch 29/70\n",
      "139/139 [==============================] - 0s 265us/step - loss: 0.0677 - val_loss: 0.0455\n",
      "Epoch 30/70\n",
      "139/139 [==============================] - 0s 115us/step - loss: 0.0676 - val_loss: 0.0456\n",
      "Epoch 31/70\n",
      "139/139 [==============================] - 0s 172us/step - loss: 0.0675 - val_loss: 0.0459\n",
      "Epoch 32/70\n",
      "139/139 [==============================] - 0s 115us/step - loss: 0.0675 - val_loss: 0.0458\n",
      "Epoch 33/70\n",
      "139/139 [==============================] - 0s 93us/step - loss: 0.0674 - val_loss: 0.0454\n",
      "Epoch 34/70\n",
      "139/139 [==============================] - 0s 194us/step - loss: 0.0673 - val_loss: 0.0454\n",
      "Epoch 35/70\n",
      "139/139 [==============================] - 0s 136us/step - loss: 0.0673 - val_loss: 0.0456\n",
      "Epoch 36/70\n",
      "139/139 [==============================] - 0s 93us/step - loss: 0.0672 - val_loss: 0.0453\n",
      "Epoch 37/70\n",
      "139/139 [==============================] - 0s 251us/step - loss: 0.0674 - val_loss: 0.0451\n",
      "Epoch 38/70\n",
      "139/139 [==============================] - 0s 144us/step - loss: 0.0672 - val_loss: 0.0457\n",
      "Epoch 39/70\n",
      "139/139 [==============================] - 0s 93us/step - loss: 0.0673 - val_loss: 0.0465\n",
      "Epoch 40/70\n",
      "139/139 [==============================] - 0s 280us/step - loss: 0.0675 - val_loss: 0.0464\n",
      "Epoch 41/70\n",
      "139/139 [==============================] - 0s 92us/step - loss: 0.0673 - val_loss: 0.0461\n",
      "Epoch 42/70\n",
      "139/139 [==============================] - 0s 115us/step - loss: 0.0672 - val_loss: 0.0456\n",
      "Epoch 43/70\n",
      "139/139 [==============================] - 0s 151us/step - loss: 0.0671 - val_loss: 0.0457\n",
      "Epoch 44/70\n",
      "139/139 [==============================] - 0s 100us/step - loss: 0.0671 - val_loss: 0.0455\n",
      "Epoch 45/70\n",
      "139/139 [==============================] - 0s 108us/step - loss: 0.0671 - val_loss: 0.0456\n",
      "Epoch 46/70\n",
      "139/139 [==============================] - 0s 201us/step - loss: 0.0671 - val_loss: 0.0458\n",
      "Epoch 47/70\n",
      "139/139 [==============================] - 0s 122us/step - loss: 0.0672 - val_loss: 0.0466\n",
      "Epoch 48/70\n",
      "139/139 [==============================] - 0s 100us/step - loss: 0.0672 - val_loss: 0.0458\n",
      "Epoch 49/70\n",
      "139/139 [==============================] - 0s 140us/step - loss: 0.0670 - val_loss: 0.0456\n",
      "Epoch 50/70\n",
      "139/139 [==============================] - 0s 151us/step - loss: 0.0670 - val_loss: 0.0459\n",
      "Epoch 51/70\n",
      "139/139 [==============================] - 0s 158us/step - loss: 0.0670 - val_loss: 0.0459\n",
      "Epoch 52/70\n",
      "139/139 [==============================] - 0s 258us/step - loss: 0.0670 - val_loss: 0.0463\n",
      "Epoch 53/70\n",
      "139/139 [==============================] - 0s 165us/step - loss: 0.0673 - val_loss: 0.0469\n",
      "Epoch 54/70\n",
      "139/139 [==============================] - 0s 151us/step - loss: 0.0671 - val_loss: 0.0458\n",
      "Epoch 55/70\n",
      "139/139 [==============================] - 0s 144us/step - loss: 0.0668 - val_loss: 0.0452\n",
      "Epoch 56/70\n",
      "139/139 [==============================] - 0s 335us/step - loss: 0.0671 - val_loss: 0.0450\n",
      "Epoch 57/70\n",
      "139/139 [==============================] - 0s 158us/step - loss: 0.0674 - val_loss: 0.0449\n",
      "Epoch 58/70\n",
      "139/139 [==============================] - 0s 158us/step - loss: 0.0673 - val_loss: 0.0452\n",
      "Epoch 59/70\n",
      "139/139 [==============================] - 0s 129us/step - loss: 0.0671 - val_loss: 0.0453\n",
      "Epoch 60/70\n",
      "139/139 [==============================] - 0s 215us/step - loss: 0.0671 - val_loss: 0.0458\n",
      "Epoch 61/70\n",
      "139/139 [==============================] - 0s 158us/step - loss: 0.0670 - val_loss: 0.0464\n",
      "Epoch 62/70\n",
      "139/139 [==============================] - 0s 129us/step - loss: 0.0670 - val_loss: 0.0460\n",
      "Epoch 63/70\n",
      "139/139 [==============================] - 0s 144us/step - loss: 0.0670 - val_loss: 0.0455\n",
      "Epoch 64/70\n",
      "139/139 [==============================] - 0s 251us/step - loss: 0.0670 - val_loss: 0.0455\n",
      "Epoch 65/70\n",
      "139/139 [==============================] - ETA: 0s - loss: 0.057 - 0s 165us/step - loss: 0.0670 - val_loss: 0.0454\n",
      "Epoch 66/70\n",
      "139/139 [==============================] - 0s 158us/step - loss: 0.0670 - val_loss: 0.0455\n",
      "Epoch 67/70\n",
      "139/139 [==============================] - 0s 93us/step - loss: 0.0669 - val_loss: 0.0457\n",
      "Epoch 68/70\n",
      "139/139 [==============================] - 0s 251us/step - loss: 0.0671 - val_loss: 0.0467\n",
      "Epoch 69/70\n",
      "139/139 [==============================] - 0s 201us/step - loss: 0.0670 - val_loss: 0.0458\n",
      "Epoch 70/70\n",
      "139/139 [==============================] - 0s 86us/step - loss: 0.0669 - val_loss: 0.0450\n"
     ]
    }
   ],
   "source": [
    "history = model.fit(Xtr,ytr,validation_data=(Xte,yte),epochs=70)"
   ]
  },
  {
   "cell_type": "code",
   "execution_count": 22,
   "metadata": {},
   "outputs": [],
   "source": [
    "res = model.predict(Xtr)\n",
    "\n",
    "res = np.reshape(res,(-1,))"
   ]
  },
  {
   "cell_type": "code",
   "execution_count": 23,
   "metadata": {},
   "outputs": [],
   "source": [
    "#res is our prediction\n",
    "#ytr is actual output"
   ]
  },
  {
   "cell_type": "code",
   "execution_count": 24,
   "metadata": {},
   "outputs": [
    {
     "data": {
      "text/plain": [
       "[<matplotlib.lines.Line2D at 0x2e5f3468518>]"
      ]
     },
     "execution_count": 24,
     "metadata": {},
     "output_type": "execute_result"
    },
    {
     "data": {
      "image/png": "[encoded data removed]",
      "text/plain": [
       "<Figure size 432x288 with 1 Axes>"
      ]
     },
     "metadata": {
      "needs_background": "light"
     },
     "output_type": "display_data"
    }
   ],
   "source": [
    "\n",
    "plt.plot(list(range(len(ytr))),ytr[:])\n",
    "plt.plot(list(range(len(res))),res[:])\n",
    "#As we can see in the below graph the model fits the data pretty well except for some outliers"
   ]
  },
  {
   "cell_type": "code",
   "execution_count": 25,
   "metadata": {},
   "outputs": [
    {
     "data": {
      "text/plain": [
       "<matplotlib.axes._subplots.AxesSubplot at 0x2e5f58d7240>"
      ]
     },
     "execution_count": 25,
     "metadata": {},
     "output_type": "execute_result"
    },
    {
     "data": {
      "image/png": "[encoded data removed]",
      "text/plain": [
       "<Figure size 432x288 with 1 Axes>"
      ]
     },
     "metadata": {
      "needs_background": "light"
     },
     "output_type": "display_data"
    }
   ],
   "source": [
    "sns.kdeplot(res,clip=(0.4,0.96))"
   ]
  },
  {
   "cell_type": "code",
   "execution_count": 26,
   "metadata": {},
   "outputs": [
    {
     "data": {
      "text/plain": [
       "<matplotlib.axes._subplots.AxesSubplot at 0x2e5f594eef0>"
      ]
     },
     "execution_count": 26,
     "metadata": {},
     "output_type": "execute_result"
    },
    {
     "data": {
      "image/png": "[encoded data removed]",
      "text/plain": [
       "<Figure size 432x288 with 1 Axes>"
      ]
     },
     "metadata": {
      "needs_background": "light"
     },
     "output_type": "display_data"
    }
   ],
   "source": [
    "sns.kdeplot(ytr,clip=(0.4,0.96))"
   ]
  },
  {
   "cell_type": "code",
   "execution_count": null,
   "metadata": {},
   "outputs": [],
   "source": []
  }
 ],
 "metadata": {
  "kernelspec": {
   "display_name": "Python 3",
   "language": "python",
   "name": "python3"
  },
  "language_info": {
   "codemirror_mode": {
    "name": "ipython",
    "version": 3
   },
   "file_extension": ".py",
   "mimetype": "text/x-python",
   "name": "python",
   "nbconvert_exporter": "python",
   "pygments_lexer": "ipython3",
   "version": "3.7.3"
  }
 },
 "nbformat": 4,
 "nbformat_minor": 2
}
